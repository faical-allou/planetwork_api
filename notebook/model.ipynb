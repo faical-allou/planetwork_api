{
 "cells": [
  {
   "cell_type": "code",
   "execution_count": 6,
   "id": "cd4b69b6",
   "metadata": {},
   "outputs": [],
   "source": [
    "import pandas as pd\n",
    "import os\n",
    "import datetime\n",
    "import time\n",
    "import random"
   ]
  },
  {
   "cell_type": "code",
   "execution_count": 7,
   "id": "8669c27c",
   "metadata": {},
   "outputs": [],
   "source": [
    "pd.set_option(\"display.max_columns\", None)"
   ]
  },
  {
   "cell_type": "code",
   "execution_count": 33,
   "id": "749800d6",
   "metadata": {},
   "outputs": [
    {
     "name": "stdout",
     "output_type": "stream",
     "text": [
      "test-airport_cost\n",
      "test-comp\n",
      "test-config\n",
      "test-demand\n",
      "test-demand_curve\n",
      "test-route_cost\n",
      "test-sked\n",
      "connections\n",
      "preferences\n"
     ]
    }
   ],
   "source": [
    "data = {}\n",
    "param = {}\n",
    "input_directory = '../temp'\n",
    "param_directory = '../param'\n",
    "for _filename in os.listdir(input_directory):\n",
    "    if _filename[0] == '.':\n",
    "        continue\n",
    "    print(_filename)\n",
    "    df_data = pd.read_csv(input_directory+'/'+_filename,  header = None)\n",
    "    filetype = _filename.split('-')[1]\n",
    "    column_dict = { \n",
    "            'sked': ['from', 'to', 'al','fln', 'actype', 'depday','dep','arrday','arr'],\n",
    "            'comp': ['from', 'to', 'al', 'fln','actype', 'depday','dep','arrday','arr'],\n",
    "            'demand': ['orig', 'dest', 'volume','weight', 'rev'],\n",
    "            'demand_curve': ['orig', 'dest', 'ttt_1','ttt_2', 'ttt_3','ttt_4'],          \n",
    "            'route_cost': ['from','to', 'actype', 'value'],\n",
    "            'airport_cost': ['ap', 'actype', 'value'],\n",
    "            'config': ['actype', 'cap_1', 'cap_2']\n",
    "    }\n",
    "    df_data.columns = column_dict[filetype]\n",
    "    data[filetype] = df_data\n",
    "    \n",
    "for _filename in os.listdir(param_directory):\n",
    "    if _filename[0] == '.':\n",
    "        continue\n",
    "    print(_filename)\n",
    "    df_data = pd.read_csv(param_directory+'/'+_filename,  header = None)\n",
    "    column_dict = { \n",
    "            'network' : ['stops_allowed'],\n",
    "            'connections': ['hub', 'minct', 'maxct'],\n",
    "            'preferences' : ['from', 'to', 'stop_penalty']\n",
    "    }\n",
    "    df_data.columns = column_dict[_filename]\n",
    "    param[_filename] = df_data"
   ]
  },
  {
   "cell_type": "code",
   "execution_count": 116,
   "id": "77e29f58",
   "metadata": {},
   "outputs": [],
   "source": [
    "#inputs\n",
    "your_sked = data['sked']\n",
    "comp_sked = data['comp']\n",
    "param_connect = param['connections']\n",
    "param_pref = param['preferences']\n",
    "param_pref['od'] = param_pref[\"from\"]+param_pref[\"to\"]\n",
    "max_stop = 2\n",
    "\n",
    "\n",
    "\n",
    "full_sked = pd.concat([your_sked,comp_sked])\n",
    "full_sked[\"dep\"] = pd.to_datetime(full_sked[\"dep\"]) + full_sked[\"depday\"]*datetime.timedelta(days=1)\n",
    "full_sked[\"arr\"] = pd.to_datetime(full_sked[\"arr\"]) + full_sked[\"arrday\"]*datetime.timedelta(days=1)\n",
    "full_sked[\"id\"] = full_sked['al'] + full_sked['fln'].astype('str')\n",
    "\n",
    "\n",
    "param_connect['minct'] = pd.to_timedelta(param_connect['minct'])\n",
    "param_connect['maxct'] = pd.to_timedelta(param_connect['maxct'])\n",
    "\n",
    "df_connect = full_sked.add_suffix('_1').reset_index(drop=True)\n",
    "df_connect['nbstops'] = 0\n",
    "\n",
    "list_itin = {}\n",
    "list_itin[0] = df_connect\n",
    "\n",
    "\n",
    "#build itineraries\n",
    "for i in range (1,max_stop+1):\n",
    "    cnx_p = param_connect.copy()\n",
    "    itins = list_itin[i-1].merge(full_sked.add_suffix('_'+str(i+1)), how= \"cross\")\n",
    "    itins['nbstops'] = i\n",
    "    \n",
    "    itins['cnx_time_'+str(i)] = itins['dep_'+str(i+1)] - itins['arr_'+str(i)]\n",
    "    \n",
    "    cnx_p.columns = ['to_'+str(i), 'minct_'+str(i), 'maxct_'+str(i)]\n",
    "    \n",
    "    #filter connections\n",
    "    itins.drop(itins[itins['to_'+str(i)] != itins['from_'+str(i+1)]].index, inplace=True)\n",
    "    itins.drop(itins[itins['from_'+str(i)] == itins['to_'+str(i+1)]].index, inplace=True)\n",
    "    itins.drop(itins[itins['from_'+str(1)] == itins['to_'+str(i+1)]].index, inplace=True)\n",
    "    \n",
    "    itins = itins.merge(cnx_p, on = ['to_'+str(i)])\n",
    "    \n",
    "    itins.drop(itins[itins['cnx_time_'+str(i)] < itins['minct_'+str(i)]].index, inplace=True)\n",
    "    itins.drop(itins[itins['cnx_time_'+str(i)] > itins['maxct_'+str(i)]].index, inplace=True)\n",
    "   \n",
    "    list_itin[i] = itins\n",
    "\n"
   ]
  },
  {
   "cell_type": "code",
   "execution_count": 117,
   "id": "f6287d19",
   "metadata": {},
   "outputs": [],
   "source": [
    "list_itin_summary = pd.DataFrame(columns=[\"id\",\"index\", \"od\",\"travel_time\", \"nbstops\",\"score\"])\n",
    "\n",
    "\n",
    "#add attributes\n",
    "for i in range(0,max_stop+1):\n",
    "    list_itin[i][\"travel_time\"] = list_itin[i][\"arr_\"+str(i+1)]-list_itin[i][\"dep_1\"]\n",
    "    list_itin[i][\"od\"] = list_itin[i][\"from_1\"]+list_itin[i][\"to_\"+str(i+1)]\n",
    "    list_itin[i][\"index\"] = list_itin[i].index\n",
    "    list_itin[i]['id'] = list_itin[i][\"nbstops\"].astype(str)+\"-\"+list_itin[i][\"index\"].astype(str)\n",
    "    list_itin[i] = list_itin[i].merge(param_pref, on=\"od\")\n",
    "\n",
    "    #calculate score\n",
    "    list_itin[i][\"score\"]= list_itin[i][\"travel_time\"].dt.seconds+list_itin[i][\"nbstops\"]*list_itin[i][\"stop_penalty\"]*3600\n",
    "\n",
    "    #prepare the data\n",
    "    list_itin_summary= pd.concat([list_itin_summary,list_itin[i][[\"id\",\"index\", \"od\",\"travel_time\", \"nbstops\",\"score\"]]]) \n",
    "\n",
    "\n"
   ]
  },
  {
   "cell_type": "code",
   "execution_count": 118,
   "id": "899be163",
   "metadata": {},
   "outputs": [],
   "source": [
    "od_itin = {}\n",
    "#organize data by OD\n",
    "for od in param_pref.od.unique():  \n",
    "    \n",
    "    od_itin[od] = list_itin_summary[list_itin_summary['od']==od].copy()"
   ]
  },
  {
   "cell_type": "code",
   "execution_count": 119,
   "id": "78ed32a4",
   "metadata": {},
   "outputs": [],
   "source": [
    "#variables\n",
    "timep = 4\n",
    "\n",
    "#define user arrivals\n",
    "demand_rand = {}\n",
    "demand_curve = data['demand_curve']\n",
    "demand = data['demand']\n",
    "\n",
    "demand_by_ttt = pd.merge(demand, demand_curve, on=[\"orig\",\"dest\"])\n",
    "\n",
    "for i in range(1,1+timep):\n",
    "    demand_by_ttt['d_ttt_'+str(i)]=(demand_by_ttt['ttt_'+str(i)]*demand_by_ttt['volume']).astype('int')\n",
    "\n",
    "#shuffle pax\n",
    "\n",
    "for i in range(1,1+timep):\n",
    "    randm = []\n",
    "    for indx, row in demand_by_ttt.iterrows():\n",
    "        for k in range(1,row['d_ttt_'+str(i)]):\n",
    "            randm.append(row['orig']+row['dest'])\n",
    "    random.shuffle(randm)\n",
    "    demand_rand[i] = randm\n",
    "    "
   ]
  },
  {
   "cell_type": "code",
   "execution_count": 122,
   "id": "1b2737b5",
   "metadata": {},
   "outputs": [
    {
     "data": {
      "text/plain": [
       "1"
      ]
     },
     "execution_count": 122,
     "metadata": {},
     "output_type": "execute_result"
    }
   ],
   "source": [
    "def choose_path(list_pax, itineraries):\n",
    "    #choose an itin randomly among available ones\n",
    "    for od_pax in list_pax:\n",
    "        if len(itineraries[od_pax])>0 :\n",
    "            choice = random.choices(list(itineraries[od_pax][\"id\"]), weights = list(itineraries[od_pax][\"score\"]), k=1)\n",
    "            stop_index = choice[0].split('-')\n",
    "            #remove capacity from itinerary\n",
    "    return 1\n",
    "\n",
    "choose_path(demand_rand[1], od_itin)"
   ]
  },
  {
   "cell_type": "code",
   "execution_count": 115,
   "id": "16078832",
   "metadata": {},
   "outputs": [
    {
     "data": {
      "text/html": [
       "<div>\n",
       "<style scoped>\n",
       "    .dataframe tbody tr th:only-of-type {\n",
       "        vertical-align: middle;\n",
       "    }\n",
       "\n",
       "    .dataframe tbody tr th {\n",
       "        vertical-align: top;\n",
       "    }\n",
       "\n",
       "    .dataframe thead th {\n",
       "        text-align: right;\n",
       "    }\n",
       "</style>\n",
       "<table border=\"1\" class=\"dataframe\">\n",
       "  <thead>\n",
       "    <tr style=\"text-align: right;\">\n",
       "      <th></th>\n",
       "      <th>id</th>\n",
       "      <th>index</th>\n",
       "      <th>od</th>\n",
       "      <th>travel_time</th>\n",
       "      <th>nbstops</th>\n",
       "      <th>score</th>\n",
       "    </tr>\n",
       "  </thead>\n",
       "  <tbody>\n",
       "    <tr>\n",
       "      <th>0</th>\n",
       "      <td>0-0</td>\n",
       "      <td>0</td>\n",
       "      <td>DUSTXL</td>\n",
       "      <td>0 days 01:32:00</td>\n",
       "      <td>0</td>\n",
       "      <td>5520</td>\n",
       "    </tr>\n",
       "    <tr>\n",
       "      <th>1</th>\n",
       "      <td>14-0</td>\n",
       "      <td>14</td>\n",
       "      <td>DUSTXL</td>\n",
       "      <td>0 days 02:00:00</td>\n",
       "      <td>0</td>\n",
       "      <td>7200</td>\n",
       "    </tr>\n",
       "    <tr>\n",
       "      <th>0</th>\n",
       "      <td>0-1</td>\n",
       "      <td>0</td>\n",
       "      <td>DUSTXL</td>\n",
       "      <td>0 days 05:01:00</td>\n",
       "      <td>1</td>\n",
       "      <td>21660</td>\n",
       "    </tr>\n",
       "    <tr>\n",
       "      <th>1</th>\n",
       "      <td>7-1</td>\n",
       "      <td>7</td>\n",
       "      <td>DUSTXL</td>\n",
       "      <td>0 days 05:15:00</td>\n",
       "      <td>1</td>\n",
       "      <td>22500</td>\n",
       "    </tr>\n",
       "  </tbody>\n",
       "</table>\n",
       "</div>"
      ],
      "text/plain": [
       "     id index      od      travel_time nbstops  score\n",
       "0   0-0     0  DUSTXL  0 days 01:32:00       0   5520\n",
       "1  14-0    14  DUSTXL  0 days 02:00:00       0   7200\n",
       "0   0-1     0  DUSTXL  0 days 05:01:00       1  21660\n",
       "1   7-1     7  DUSTXL  0 days 05:15:00       1  22500"
      ]
     },
     "execution_count": 115,
     "metadata": {},
     "output_type": "execute_result"
    }
   ],
   "source": [
    "list_itin_summary[list_itin_summary['od']=='DUSTXL']"
   ]
  }
 ],
 "metadata": {
  "kernelspec": {
   "display_name": "Python 3 (ipykernel)",
   "language": "python",
   "name": "python3"
  },
  "language_info": {
   "codemirror_mode": {
    "name": "ipython",
    "version": 3
   },
   "file_extension": ".py",
   "mimetype": "text/x-python",
   "name": "python",
   "nbconvert_exporter": "python",
   "pygments_lexer": "ipython3",
   "version": "3.8.3"
  }
 },
 "nbformat": 4,
 "nbformat_minor": 5
}
